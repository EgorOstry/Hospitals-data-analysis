{
 "cells": [
  {
   "cell_type": "markdown",
   "id": "1a9cf483",
   "metadata": {},
   "source": [
    "Hospitals datasets"
   ]
  },
  {
   "cell_type": "code",
   "execution_count": 373,
   "id": "1d02ecfa",
   "metadata": {},
   "outputs": [],
   "source": [
    "import pandas as pd\n",
    "import numpy as np\n",
    "import matplotlib.pyplot as plt\n",
    "pd.set_option('display.max_columns', 25) # ограничение на количество отображаемых столбцов на экране (если не помещается)"
   ]
  },
  {
   "cell_type": "markdown",
   "id": "77ec66b8",
   "metadata": {},
   "source": [
    "Импорт данных csv"
   ]
  },
  {
   "cell_type": "code",
   "execution_count": 375,
   "id": "98b6ed35",
   "metadata": {},
   "outputs": [],
   "source": [
    "general, prenatal, sports = [pd.read_csv(r'general.csv'),\n",
    "                             pd.read_csv(r'prenatal.csv'),\n",
    "                             pd.read_csv(r'sports.csv')]"
   ]
  },
  {
   "cell_type": "code",
   "execution_count": 376,
   "id": "dda35a61",
   "metadata": {},
   "outputs": [
    {
     "data": {
      "text/html": [
       "<div>\n",
       "<style scoped>\n",
       "    .dataframe tbody tr th:only-of-type {\n",
       "        vertical-align: middle;\n",
       "    }\n",
       "\n",
       "    .dataframe tbody tr th {\n",
       "        vertical-align: top;\n",
       "    }\n",
       "\n",
       "    .dataframe thead th {\n",
       "        text-align: right;\n",
       "    }\n",
       "</style>\n",
       "<table border=\"1\" class=\"dataframe\">\n",
       "  <thead>\n",
       "    <tr style=\"text-align: right;\">\n",
       "      <th></th>\n",
       "      <th>Unnamed: 0</th>\n",
       "      <th>hospital</th>\n",
       "      <th>gender</th>\n",
       "      <th>age</th>\n",
       "      <th>height</th>\n",
       "      <th>weight</th>\n",
       "      <th>bmi</th>\n",
       "      <th>diagnosis</th>\n",
       "      <th>blood_test</th>\n",
       "      <th>ecg</th>\n",
       "      <th>ultrasound</th>\n",
       "      <th>mri</th>\n",
       "      <th>xray</th>\n",
       "      <th>children</th>\n",
       "      <th>months</th>\n",
       "    </tr>\n",
       "  </thead>\n",
       "  <tbody>\n",
       "    <tr>\n",
       "      <th>0</th>\n",
       "      <td>0</td>\n",
       "      <td>general</td>\n",
       "      <td>man</td>\n",
       "      <td>33</td>\n",
       "      <td>1.64</td>\n",
       "      <td>66</td>\n",
       "      <td>24.9</td>\n",
       "      <td>cold</td>\n",
       "      <td>t</td>\n",
       "      <td>NaN</td>\n",
       "      <td>NaN</td>\n",
       "      <td>NaN</td>\n",
       "      <td>NaN</td>\n",
       "      <td>NaN</td>\n",
       "      <td>NaN</td>\n",
       "    </tr>\n",
       "    <tr>\n",
       "      <th>1</th>\n",
       "      <td>1</td>\n",
       "      <td>general</td>\n",
       "      <td>man</td>\n",
       "      <td>48</td>\n",
       "      <td>1.93</td>\n",
       "      <td>106</td>\n",
       "      <td>28.4</td>\n",
       "      <td>stomach</td>\n",
       "      <td>t</td>\n",
       "      <td>NaN</td>\n",
       "      <td>t</td>\n",
       "      <td>NaN</td>\n",
       "      <td>NaN</td>\n",
       "      <td>NaN</td>\n",
       "      <td>NaN</td>\n",
       "    </tr>\n",
       "    <tr>\n",
       "      <th>2</th>\n",
       "      <td>2</td>\n",
       "      <td>general</td>\n",
       "      <td>woman</td>\n",
       "      <td>23</td>\n",
       "      <td>1.54</td>\n",
       "      <td>63</td>\n",
       "      <td>26.8</td>\n",
       "      <td>cold</td>\n",
       "      <td>t</td>\n",
       "      <td>NaN</td>\n",
       "      <td>NaN</td>\n",
       "      <td>NaN</td>\n",
       "      <td>NaN</td>\n",
       "      <td>NaN</td>\n",
       "      <td>NaN</td>\n",
       "    </tr>\n",
       "    <tr>\n",
       "      <th>3</th>\n",
       "      <td>3</td>\n",
       "      <td>general</td>\n",
       "      <td>man</td>\n",
       "      <td>27</td>\n",
       "      <td>1.94</td>\n",
       "      <td>103</td>\n",
       "      <td>27.5</td>\n",
       "      <td>stomach</td>\n",
       "      <td>t</td>\n",
       "      <td>NaN</td>\n",
       "      <td>t</td>\n",
       "      <td>NaN</td>\n",
       "      <td>NaN</td>\n",
       "      <td>NaN</td>\n",
       "      <td>NaN</td>\n",
       "    </tr>\n",
       "    <tr>\n",
       "      <th>4</th>\n",
       "      <td>4</td>\n",
       "      <td>general</td>\n",
       "      <td>woman</td>\n",
       "      <td>22</td>\n",
       "      <td>1.76</td>\n",
       "      <td>74</td>\n",
       "      <td>24.0</td>\n",
       "      <td>dislocation</td>\n",
       "      <td>NaN</td>\n",
       "      <td>NaN</td>\n",
       "      <td>NaN</td>\n",
       "      <td>NaN</td>\n",
       "      <td>f</td>\n",
       "      <td>NaN</td>\n",
       "      <td>NaN</td>\n",
       "    </tr>\n",
       "  </tbody>\n",
       "</table>\n",
       "</div>"
      ],
      "text/plain": [
       "   Unnamed: 0 hospital gender  age  height  weight   bmi    diagnosis  \\\n",
       "0           0  general    man   33    1.64      66  24.9         cold   \n",
       "1           1  general    man   48    1.93     106  28.4      stomach   \n",
       "2           2  general  woman   23    1.54      63  26.8         cold   \n",
       "3           3  general    man   27    1.94     103  27.5      stomach   \n",
       "4           4  general  woman   22    1.76      74  24.0  dislocation   \n",
       "\n",
       "  blood_test  ecg ultrasound  mri xray  children  months  \n",
       "0          t  NaN        NaN  NaN  NaN       NaN     NaN  \n",
       "1          t  NaN          t  NaN  NaN       NaN     NaN  \n",
       "2          t  NaN        NaN  NaN  NaN       NaN     NaN  \n",
       "3          t  NaN          t  NaN  NaN       NaN     NaN  \n",
       "4        NaN  NaN        NaN  NaN    f       NaN     NaN  "
      ]
     },
     "execution_count": 376,
     "metadata": {},
     "output_type": "execute_result"
    }
   ],
   "source": [
    "general.head()"
   ]
  },
  {
   "cell_type": "markdown",
   "id": "0bb26ff8",
   "metadata": {},
   "source": [
    "Удалить лишнюю колонку (unnamed: 0)"
   ]
  },
  {
   "cell_type": "code",
   "execution_count": 377,
   "id": "c4053efc",
   "metadata": {},
   "outputs": [],
   "source": [
    "prenatal.drop(columns='Unnamed: 0', axis=1, inplace=True)\n",
    "sports.drop(columns='Unnamed: 0', axis=1, inplace=True)\n",
    "general.drop(columns='Unnamed: 0', axis=1, inplace=True)"
   ]
  },
  {
   "cell_type": "markdown",
   "id": "95b3efbe",
   "metadata": {},
   "source": [
    "Привести столбцы к единому виду"
   ]
  },
  {
   "cell_type": "code",
   "execution_count": 378,
   "id": "73f0deb2",
   "metadata": {},
   "outputs": [],
   "source": [
    "prenatal.columns = sports.columns = general.columns"
   ]
  },
  {
   "cell_type": "code",
   "execution_count": 379,
   "id": "a31a3e5e",
   "metadata": {},
   "outputs": [
    {
     "data": {
      "text/html": [
       "<div>\n",
       "<style scoped>\n",
       "    .dataframe tbody tr th:only-of-type {\n",
       "        vertical-align: middle;\n",
       "    }\n",
       "\n",
       "    .dataframe tbody tr th {\n",
       "        vertical-align: top;\n",
       "    }\n",
       "\n",
       "    .dataframe thead th {\n",
       "        text-align: right;\n",
       "    }\n",
       "</style>\n",
       "<table border=\"1\" class=\"dataframe\">\n",
       "  <thead>\n",
       "    <tr style=\"text-align: right;\">\n",
       "      <th></th>\n",
       "      <th>hospital</th>\n",
       "      <th>gender</th>\n",
       "      <th>age</th>\n",
       "      <th>height</th>\n",
       "      <th>weight</th>\n",
       "      <th>bmi</th>\n",
       "      <th>diagnosis</th>\n",
       "      <th>blood_test</th>\n",
       "      <th>ecg</th>\n",
       "      <th>ultrasound</th>\n",
       "      <th>mri</th>\n",
       "      <th>xray</th>\n",
       "      <th>children</th>\n",
       "      <th>months</th>\n",
       "    </tr>\n",
       "  </thead>\n",
       "  <tbody>\n",
       "    <tr>\n",
       "      <th>0</th>\n",
       "      <td>general</td>\n",
       "      <td>man</td>\n",
       "      <td>33</td>\n",
       "      <td>1.64</td>\n",
       "      <td>66</td>\n",
       "      <td>24.9</td>\n",
       "      <td>cold</td>\n",
       "      <td>t</td>\n",
       "      <td>NaN</td>\n",
       "      <td>NaN</td>\n",
       "      <td>NaN</td>\n",
       "      <td>NaN</td>\n",
       "      <td>NaN</td>\n",
       "      <td>NaN</td>\n",
       "    </tr>\n",
       "    <tr>\n",
       "      <th>1</th>\n",
       "      <td>general</td>\n",
       "      <td>man</td>\n",
       "      <td>48</td>\n",
       "      <td>1.93</td>\n",
       "      <td>106</td>\n",
       "      <td>28.4</td>\n",
       "      <td>stomach</td>\n",
       "      <td>t</td>\n",
       "      <td>NaN</td>\n",
       "      <td>t</td>\n",
       "      <td>NaN</td>\n",
       "      <td>NaN</td>\n",
       "      <td>NaN</td>\n",
       "      <td>NaN</td>\n",
       "    </tr>\n",
       "    <tr>\n",
       "      <th>2</th>\n",
       "      <td>general</td>\n",
       "      <td>woman</td>\n",
       "      <td>23</td>\n",
       "      <td>1.54</td>\n",
       "      <td>63</td>\n",
       "      <td>26.8</td>\n",
       "      <td>cold</td>\n",
       "      <td>t</td>\n",
       "      <td>NaN</td>\n",
       "      <td>NaN</td>\n",
       "      <td>NaN</td>\n",
       "      <td>NaN</td>\n",
       "      <td>NaN</td>\n",
       "      <td>NaN</td>\n",
       "    </tr>\n",
       "    <tr>\n",
       "      <th>3</th>\n",
       "      <td>general</td>\n",
       "      <td>man</td>\n",
       "      <td>27</td>\n",
       "      <td>1.94</td>\n",
       "      <td>103</td>\n",
       "      <td>27.5</td>\n",
       "      <td>stomach</td>\n",
       "      <td>t</td>\n",
       "      <td>NaN</td>\n",
       "      <td>t</td>\n",
       "      <td>NaN</td>\n",
       "      <td>NaN</td>\n",
       "      <td>NaN</td>\n",
       "      <td>NaN</td>\n",
       "    </tr>\n",
       "    <tr>\n",
       "      <th>4</th>\n",
       "      <td>general</td>\n",
       "      <td>woman</td>\n",
       "      <td>22</td>\n",
       "      <td>1.76</td>\n",
       "      <td>74</td>\n",
       "      <td>24.0</td>\n",
       "      <td>dislocation</td>\n",
       "      <td>NaN</td>\n",
       "      <td>NaN</td>\n",
       "      <td>NaN</td>\n",
       "      <td>NaN</td>\n",
       "      <td>f</td>\n",
       "      <td>NaN</td>\n",
       "      <td>NaN</td>\n",
       "    </tr>\n",
       "  </tbody>\n",
       "</table>\n",
       "</div>"
      ],
      "text/plain": [
       "  hospital gender  age  height  weight   bmi    diagnosis blood_test  ecg  \\\n",
       "0  general    man   33    1.64      66  24.9         cold          t  NaN   \n",
       "1  general    man   48    1.93     106  28.4      stomach          t  NaN   \n",
       "2  general  woman   23    1.54      63  26.8         cold          t  NaN   \n",
       "3  general    man   27    1.94     103  27.5      stomach          t  NaN   \n",
       "4  general  woman   22    1.76      74  24.0  dislocation        NaN  NaN   \n",
       "\n",
       "  ultrasound  mri xray  children  months  \n",
       "0        NaN  NaN  NaN       NaN     NaN  \n",
       "1          t  NaN  NaN       NaN     NaN  \n",
       "2        NaN  NaN  NaN       NaN     NaN  \n",
       "3          t  NaN  NaN       NaN     NaN  \n",
       "4        NaN  NaN    f       NaN     NaN  "
      ]
     },
     "execution_count": 379,
     "metadata": {},
     "output_type": "execute_result"
    }
   ],
   "source": [
    "general.head()"
   ]
  },
  {
   "cell_type": "markdown",
   "id": "29d0e083",
   "metadata": {},
   "source": [
    "Объединение трех датафреймов в один. Ignore_index=True сбрасывает индексацию."
   ]
  },
  {
   "cell_type": "code",
   "execution_count": 380,
   "id": "292951eb",
   "metadata": {},
   "outputs": [],
   "source": [
    "full = pd.concat([general, prenatal, sports], ignore_index=True)"
   ]
  },
  {
   "cell_type": "markdown",
   "id": "4927b71a",
   "metadata": {},
   "source": [
    "Удаляем полностью пустые строки (how='all' значит что для удаления ВСЕ значения в строке должны быть Nan), заполняем Nan нулями."
   ]
  },
  {
   "cell_type": "code",
   "execution_count": 381,
   "id": "dcf3dab0",
   "metadata": {},
   "outputs": [],
   "source": [
    "full = full.dropna(how='all')\n",
    "full = full.fillna(0)"
   ]
  },
  {
   "cell_type": "code",
   "execution_count": 382,
   "id": "0bd55bfa",
   "metadata": {},
   "outputs": [
    {
     "data": {
      "text/plain": [
       "Index(['hospital', 'gender', 'age', 'height', 'weight', 'bmi', 'diagnosis',\n",
       "       'blood_test', 'ecg', 'ultrasound', 'mri', 'xray', 'children', 'months'],\n",
       "      dtype='object')"
      ]
     },
     "execution_count": 382,
     "metadata": {},
     "output_type": "execute_result"
    }
   ],
   "source": [
    "full.columns"
   ]
  },
  {
   "cell_type": "markdown",
   "id": "49871253",
   "metadata": {},
   "source": [
    "Приводим столбец gender к виду f/m"
   ]
  },
  {
   "cell_type": "code",
   "execution_count": 383,
   "id": "be9788dc",
   "metadata": {},
   "outputs": [],
   "source": [
    "full['gender'] = full['gender'].replace({'man': 'm', 'male': 'm', 'woman': 'f', 'female': 'f', 0: 'f'})"
   ]
  },
  {
   "cell_type": "code",
   "execution_count": 384,
   "id": "94f833bd",
   "metadata": {},
   "outputs": [
    {
     "data": {
      "text/html": [
       "<div>\n",
       "<style scoped>\n",
       "    .dataframe tbody tr th:only-of-type {\n",
       "        vertical-align: middle;\n",
       "    }\n",
       "\n",
       "    .dataframe tbody tr th {\n",
       "        vertical-align: top;\n",
       "    }\n",
       "\n",
       "    .dataframe thead th {\n",
       "        text-align: right;\n",
       "    }\n",
       "</style>\n",
       "<table border=\"1\" class=\"dataframe\">\n",
       "  <thead>\n",
       "    <tr style=\"text-align: right;\">\n",
       "      <th></th>\n",
       "      <th>hospital</th>\n",
       "      <th>gender</th>\n",
       "      <th>age</th>\n",
       "      <th>height</th>\n",
       "      <th>weight</th>\n",
       "      <th>bmi</th>\n",
       "      <th>diagnosis</th>\n",
       "      <th>blood_test</th>\n",
       "      <th>ecg</th>\n",
       "      <th>ultrasound</th>\n",
       "      <th>mri</th>\n",
       "      <th>xray</th>\n",
       "      <th>children</th>\n",
       "      <th>months</th>\n",
       "    </tr>\n",
       "  </thead>\n",
       "  <tbody>\n",
       "    <tr>\n",
       "      <th>0</th>\n",
       "      <td>general</td>\n",
       "      <td>m</td>\n",
       "      <td>33.0</td>\n",
       "      <td>1.64</td>\n",
       "      <td>66.0</td>\n",
       "      <td>24.9</td>\n",
       "      <td>cold</td>\n",
       "      <td>t</td>\n",
       "      <td>0</td>\n",
       "      <td>0</td>\n",
       "      <td>0</td>\n",
       "      <td>0</td>\n",
       "      <td>0.0</td>\n",
       "      <td>0.0</td>\n",
       "    </tr>\n",
       "    <tr>\n",
       "      <th>1</th>\n",
       "      <td>general</td>\n",
       "      <td>m</td>\n",
       "      <td>48.0</td>\n",
       "      <td>1.93</td>\n",
       "      <td>106.0</td>\n",
       "      <td>28.4</td>\n",
       "      <td>stomach</td>\n",
       "      <td>t</td>\n",
       "      <td>0</td>\n",
       "      <td>t</td>\n",
       "      <td>0</td>\n",
       "      <td>0</td>\n",
       "      <td>0.0</td>\n",
       "      <td>0.0</td>\n",
       "    </tr>\n",
       "    <tr>\n",
       "      <th>2</th>\n",
       "      <td>general</td>\n",
       "      <td>f</td>\n",
       "      <td>23.0</td>\n",
       "      <td>1.54</td>\n",
       "      <td>63.0</td>\n",
       "      <td>26.8</td>\n",
       "      <td>cold</td>\n",
       "      <td>t</td>\n",
       "      <td>0</td>\n",
       "      <td>0</td>\n",
       "      <td>0</td>\n",
       "      <td>0</td>\n",
       "      <td>0.0</td>\n",
       "      <td>0.0</td>\n",
       "    </tr>\n",
       "    <tr>\n",
       "      <th>3</th>\n",
       "      <td>general</td>\n",
       "      <td>m</td>\n",
       "      <td>27.0</td>\n",
       "      <td>1.94</td>\n",
       "      <td>103.0</td>\n",
       "      <td>27.5</td>\n",
       "      <td>stomach</td>\n",
       "      <td>t</td>\n",
       "      <td>0</td>\n",
       "      <td>t</td>\n",
       "      <td>0</td>\n",
       "      <td>0</td>\n",
       "      <td>0.0</td>\n",
       "      <td>0.0</td>\n",
       "    </tr>\n",
       "    <tr>\n",
       "      <th>4</th>\n",
       "      <td>general</td>\n",
       "      <td>f</td>\n",
       "      <td>22.0</td>\n",
       "      <td>1.76</td>\n",
       "      <td>74.0</td>\n",
       "      <td>24.0</td>\n",
       "      <td>dislocation</td>\n",
       "      <td>0</td>\n",
       "      <td>0</td>\n",
       "      <td>0</td>\n",
       "      <td>0</td>\n",
       "      <td>f</td>\n",
       "      <td>0.0</td>\n",
       "      <td>0.0</td>\n",
       "    </tr>\n",
       "  </tbody>\n",
       "</table>\n",
       "</div>"
      ],
      "text/plain": [
       "  hospital gender   age  height  weight   bmi    diagnosis blood_test ecg  \\\n",
       "0  general      m  33.0    1.64    66.0  24.9         cold          t   0   \n",
       "1  general      m  48.0    1.93   106.0  28.4      stomach          t   0   \n",
       "2  general      f  23.0    1.54    63.0  26.8         cold          t   0   \n",
       "3  general      m  27.0    1.94   103.0  27.5      stomach          t   0   \n",
       "4  general      f  22.0    1.76    74.0  24.0  dislocation          0   0   \n",
       "\n",
       "  ultrasound mri xray  children  months  \n",
       "0          0   0    0       0.0     0.0  \n",
       "1          t   0    0       0.0     0.0  \n",
       "2          0   0    0       0.0     0.0  \n",
       "3          t   0    0       0.0     0.0  \n",
       "4          0   0    f       0.0     0.0  "
      ]
     },
     "execution_count": 384,
     "metadata": {},
     "output_type": "execute_result"
    }
   ],
   "source": [
    "full.head()"
   ]
  },
  {
   "cell_type": "markdown",
   "id": "04596bcf",
   "metadata": {},
   "source": [
    "Отбор столбца hospital, подсчет количества значений в столбце для разных hospital"
   ]
  },
  {
   "cell_type": "code",
   "execution_count": 385,
   "id": "55ae8679",
   "metadata": {},
   "outputs": [
    {
     "data": {
      "text/plain": [
       "general     461\n",
       "prenatal    325\n",
       "sports      214\n",
       "Name: hospital, dtype: int64"
      ]
     },
     "execution_count": 385,
     "metadata": {},
     "output_type": "execute_result"
    }
   ],
   "source": [
    "full.hospital.value_counts()"
   ]
  },
  {
   "cell_type": "markdown",
   "id": "b8633119",
   "metadata": {},
   "source": [
    "В какой больнице больше всего пациентов?"
   ]
  },
  {
   "cell_type": "code",
   "execution_count": 386,
   "id": "ab5089d4",
   "metadata": {},
   "outputs": [
    {
     "data": {
      "text/plain": [
       "'general'"
      ]
     },
     "execution_count": 386,
     "metadata": {},
     "output_type": "execute_result"
    }
   ],
   "source": [
    "full.hospital.value_counts().idxmax()"
   ]
  },
  {
   "cell_type": "markdown",
   "id": "479cdb0a",
   "metadata": {},
   "source": [
    "Отбор всех строк, для которых значение hospital равно general И значение diagnosis равно stomach."
   ]
  },
  {
   "cell_type": "code",
   "execution_count": 387,
   "id": "0d27bf4e",
   "metadata": {},
   "outputs": [
    {
     "data": {
      "text/html": [
       "<div>\n",
       "<style scoped>\n",
       "    .dataframe tbody tr th:only-of-type {\n",
       "        vertical-align: middle;\n",
       "    }\n",
       "\n",
       "    .dataframe tbody tr th {\n",
       "        vertical-align: top;\n",
       "    }\n",
       "\n",
       "    .dataframe thead th {\n",
       "        text-align: right;\n",
       "    }\n",
       "</style>\n",
       "<table border=\"1\" class=\"dataframe\">\n",
       "  <thead>\n",
       "    <tr style=\"text-align: right;\">\n",
       "      <th></th>\n",
       "      <th>hospital</th>\n",
       "      <th>gender</th>\n",
       "      <th>age</th>\n",
       "      <th>height</th>\n",
       "      <th>weight</th>\n",
       "      <th>bmi</th>\n",
       "      <th>diagnosis</th>\n",
       "      <th>blood_test</th>\n",
       "      <th>ecg</th>\n",
       "      <th>ultrasound</th>\n",
       "      <th>mri</th>\n",
       "      <th>xray</th>\n",
       "      <th>children</th>\n",
       "      <th>months</th>\n",
       "    </tr>\n",
       "  </thead>\n",
       "  <tbody>\n",
       "    <tr>\n",
       "      <th>1</th>\n",
       "      <td>general</td>\n",
       "      <td>m</td>\n",
       "      <td>48.0</td>\n",
       "      <td>1.93</td>\n",
       "      <td>106.0</td>\n",
       "      <td>28.4</td>\n",
       "      <td>stomach</td>\n",
       "      <td>t</td>\n",
       "      <td>0</td>\n",
       "      <td>t</td>\n",
       "      <td>0</td>\n",
       "      <td>0</td>\n",
       "      <td>0.0</td>\n",
       "      <td>0.0</td>\n",
       "    </tr>\n",
       "    <tr>\n",
       "      <th>3</th>\n",
       "      <td>general</td>\n",
       "      <td>m</td>\n",
       "      <td>27.0</td>\n",
       "      <td>1.94</td>\n",
       "      <td>103.0</td>\n",
       "      <td>27.5</td>\n",
       "      <td>stomach</td>\n",
       "      <td>t</td>\n",
       "      <td>0</td>\n",
       "      <td>t</td>\n",
       "      <td>0</td>\n",
       "      <td>0</td>\n",
       "      <td>0.0</td>\n",
       "      <td>0.0</td>\n",
       "    </tr>\n",
       "    <tr>\n",
       "      <th>6</th>\n",
       "      <td>general</td>\n",
       "      <td>f</td>\n",
       "      <td>68.0</td>\n",
       "      <td>1.80</td>\n",
       "      <td>85.0</td>\n",
       "      <td>26.4</td>\n",
       "      <td>stomach</td>\n",
       "      <td>f</td>\n",
       "      <td>0</td>\n",
       "      <td>f</td>\n",
       "      <td>0</td>\n",
       "      <td>0</td>\n",
       "      <td>0.0</td>\n",
       "      <td>0.0</td>\n",
       "    </tr>\n",
       "    <tr>\n",
       "      <th>11</th>\n",
       "      <td>general</td>\n",
       "      <td>m</td>\n",
       "      <td>57.0</td>\n",
       "      <td>1.86</td>\n",
       "      <td>95.0</td>\n",
       "      <td>27.5</td>\n",
       "      <td>stomach</td>\n",
       "      <td>f</td>\n",
       "      <td>0</td>\n",
       "      <td>f</td>\n",
       "      <td>0</td>\n",
       "      <td>0</td>\n",
       "      <td>0.0</td>\n",
       "      <td>0.0</td>\n",
       "    </tr>\n",
       "    <tr>\n",
       "      <th>14</th>\n",
       "      <td>general</td>\n",
       "      <td>f</td>\n",
       "      <td>47.0</td>\n",
       "      <td>1.80</td>\n",
       "      <td>83.0</td>\n",
       "      <td>25.9</td>\n",
       "      <td>stomach</td>\n",
       "      <td>t</td>\n",
       "      <td>0</td>\n",
       "      <td>f</td>\n",
       "      <td>0</td>\n",
       "      <td>0</td>\n",
       "      <td>0.0</td>\n",
       "      <td>0.0</td>\n",
       "    </tr>\n",
       "  </tbody>\n",
       "</table>\n",
       "</div>"
      ],
      "text/plain": [
       "   hospital gender   age  height  weight   bmi diagnosis blood_test ecg  \\\n",
       "1   general      m  48.0    1.93   106.0  28.4   stomach          t   0   \n",
       "3   general      m  27.0    1.94   103.0  27.5   stomach          t   0   \n",
       "6   general      f  68.0    1.80    85.0  26.4   stomach          f   0   \n",
       "11  general      m  57.0    1.86    95.0  27.5   stomach          f   0   \n",
       "14  general      f  47.0    1.80    83.0  25.9   stomach          t   0   \n",
       "\n",
       "   ultrasound mri xray  children  months  \n",
       "1           t   0    0       0.0     0.0  \n",
       "3           t   0    0       0.0     0.0  \n",
       "6           f   0    0       0.0     0.0  \n",
       "11          f   0    0       0.0     0.0  \n",
       "14          f   0    0       0.0     0.0  "
      ]
     },
     "execution_count": 387,
     "metadata": {},
     "output_type": "execute_result"
    }
   ],
   "source": [
    "full.query(\"hospital=='general' and diagnosis=='stomach'\").head()"
   ]
  },
  {
   "cell_type": "markdown",
   "id": "e0579863",
   "metadata": {},
   "source": [
    "Посчитать количество пациентов в General поступивших со Stomach (количество строк)"
   ]
  },
  {
   "cell_type": "code",
   "execution_count": 388,
   "id": "cff8c3cb",
   "metadata": {},
   "outputs": [
    {
     "data": {
      "text/plain": [
       "150"
      ]
     },
     "execution_count": 388,
     "metadata": {},
     "output_type": "execute_result"
    }
   ],
   "source": [
    "full.query(\"hospital=='general' and diagnosis=='stomach'\").count()[0]"
   ]
  },
  {
   "cell_type": "markdown",
   "id": "3c04fbcd",
   "metadata": {},
   "source": [
    "Получим общее число записей при условии hospital == general тем же путем"
   ]
  },
  {
   "cell_type": "code",
   "execution_count": 389,
   "id": "719db05e",
   "metadata": {},
   "outputs": [
    {
     "data": {
      "text/plain": [
       "461"
      ]
     },
     "execution_count": 389,
     "metadata": {},
     "output_type": "execute_result"
    }
   ],
   "source": [
    "full.query(\"hospital=='general'\").count()[0]"
   ]
  },
  {
   "cell_type": "markdown",
   "id": "1c332c13",
   "metadata": {},
   "source": [
    "Узнаем долю записей с диагнозом stomach в больнице general среди всех записей в больнице general, округлим до 3 знаков."
   ]
  },
  {
   "cell_type": "code",
   "execution_count": 390,
   "id": "de6d5537",
   "metadata": {},
   "outputs": [
    {
     "data": {
      "text/plain": [
       "0.325"
      ]
     },
     "execution_count": 390,
     "metadata": {},
     "output_type": "execute_result"
    }
   ],
   "source": [
    "round(full.query(\"hospital=='general' and diagnosis=='stomach'\").count()[0] / full.query(\"hospital=='general'\").count()[0], 3)"
   ]
  },
  {
   "cell_type": "markdown",
   "id": "7ef0db90",
   "metadata": {},
   "source": [
    "Посчитаем медианы при условии что hospital равно general"
   ]
  },
  {
   "cell_type": "code",
   "execution_count": 391,
   "id": "50df2de7",
   "metadata": {},
   "outputs": [
    {
     "data": {
      "text/plain": [
       "age         38.00\n",
       "height       1.72\n",
       "weight      77.00\n",
       "bmi         26.60\n",
       "mri          0.00\n",
       "children     0.00\n",
       "months       0.00\n",
       "dtype: float64"
      ]
     },
     "execution_count": 391,
     "metadata": {},
     "output_type": "execute_result"
    }
   ],
   "source": [
    "full.query(\"hospital=='general'\").median()"
   ]
  },
  {
   "cell_type": "markdown",
   "id": "f5b0bbf2",
   "metadata": {},
   "source": [
    "Посчитаем медианы при условии что hospital равно general, затем для sports, и найдем разницу"
   ]
  },
  {
   "cell_type": "markdown",
   "id": "a2694018",
   "metadata": {},
   "source": [
    "Медиана age для general"
   ]
  },
  {
   "cell_type": "code",
   "execution_count": 392,
   "id": "15609c0b",
   "metadata": {},
   "outputs": [
    {
     "data": {
      "text/plain": [
       "38.0"
      ]
     },
     "execution_count": 392,
     "metadata": {},
     "output_type": "execute_result"
    }
   ],
   "source": [
    "full.query(\"hospital=='general'\").median()['age']"
   ]
  },
  {
   "cell_type": "code",
   "execution_count": 393,
   "id": "7b30f39a",
   "metadata": {},
   "outputs": [
    {
     "data": {
      "text/plain": [
       "19.0"
      ]
     },
     "execution_count": 393,
     "metadata": {},
     "output_type": "execute_result"
    }
   ],
   "source": [
    "(full.query(\"hospital=='sports'\").median())['age']"
   ]
  },
  {
   "cell_type": "code",
   "execution_count": 394,
   "id": "cba3a94b",
   "metadata": {},
   "outputs": [
    {
     "data": {
      "text/plain": [
       "19.0"
      ]
     },
     "execution_count": 394,
     "metadata": {},
     "output_type": "execute_result"
    }
   ],
   "source": [
    "(full.query(\"hospital=='general'\").median())['age'] - (full.query(\"hospital=='sports'\").median())['age']"
   ]
  },
  {
   "cell_type": "markdown",
   "id": "72a9e09a",
   "metadata": {},
   "source": [
    "Отберем только те строки, в которых значение столбца blood_test равно 't' (true, т.е. брали анализ крови)"
   ]
  },
  {
   "cell_type": "code",
   "execution_count": 395,
   "id": "18968060",
   "metadata": {},
   "outputs": [
    {
     "data": {
      "text/html": [
       "<div>\n",
       "<style scoped>\n",
       "    .dataframe tbody tr th:only-of-type {\n",
       "        vertical-align: middle;\n",
       "    }\n",
       "\n",
       "    .dataframe tbody tr th {\n",
       "        vertical-align: top;\n",
       "    }\n",
       "\n",
       "    .dataframe thead th {\n",
       "        text-align: right;\n",
       "    }\n",
       "</style>\n",
       "<table border=\"1\" class=\"dataframe\">\n",
       "  <thead>\n",
       "    <tr style=\"text-align: right;\">\n",
       "      <th></th>\n",
       "      <th>hospital</th>\n",
       "      <th>gender</th>\n",
       "      <th>age</th>\n",
       "      <th>height</th>\n",
       "      <th>weight</th>\n",
       "      <th>bmi</th>\n",
       "      <th>diagnosis</th>\n",
       "      <th>blood_test</th>\n",
       "      <th>ecg</th>\n",
       "      <th>ultrasound</th>\n",
       "      <th>mri</th>\n",
       "      <th>xray</th>\n",
       "      <th>children</th>\n",
       "      <th>months</th>\n",
       "    </tr>\n",
       "  </thead>\n",
       "  <tbody>\n",
       "    <tr>\n",
       "      <th>0</th>\n",
       "      <td>general</td>\n",
       "      <td>m</td>\n",
       "      <td>33.0</td>\n",
       "      <td>1.64</td>\n",
       "      <td>66.0</td>\n",
       "      <td>24.9</td>\n",
       "      <td>cold</td>\n",
       "      <td>t</td>\n",
       "      <td>0</td>\n",
       "      <td>0</td>\n",
       "      <td>0</td>\n",
       "      <td>0</td>\n",
       "      <td>0.0</td>\n",
       "      <td>0.0</td>\n",
       "    </tr>\n",
       "    <tr>\n",
       "      <th>1</th>\n",
       "      <td>general</td>\n",
       "      <td>m</td>\n",
       "      <td>48.0</td>\n",
       "      <td>1.93</td>\n",
       "      <td>106.0</td>\n",
       "      <td>28.4</td>\n",
       "      <td>stomach</td>\n",
       "      <td>t</td>\n",
       "      <td>0</td>\n",
       "      <td>t</td>\n",
       "      <td>0</td>\n",
       "      <td>0</td>\n",
       "      <td>0.0</td>\n",
       "      <td>0.0</td>\n",
       "    </tr>\n",
       "    <tr>\n",
       "      <th>2</th>\n",
       "      <td>general</td>\n",
       "      <td>f</td>\n",
       "      <td>23.0</td>\n",
       "      <td>1.54</td>\n",
       "      <td>63.0</td>\n",
       "      <td>26.8</td>\n",
       "      <td>cold</td>\n",
       "      <td>t</td>\n",
       "      <td>0</td>\n",
       "      <td>0</td>\n",
       "      <td>0</td>\n",
       "      <td>0</td>\n",
       "      <td>0.0</td>\n",
       "      <td>0.0</td>\n",
       "    </tr>\n",
       "    <tr>\n",
       "      <th>3</th>\n",
       "      <td>general</td>\n",
       "      <td>m</td>\n",
       "      <td>27.0</td>\n",
       "      <td>1.94</td>\n",
       "      <td>103.0</td>\n",
       "      <td>27.5</td>\n",
       "      <td>stomach</td>\n",
       "      <td>t</td>\n",
       "      <td>0</td>\n",
       "      <td>t</td>\n",
       "      <td>0</td>\n",
       "      <td>0</td>\n",
       "      <td>0.0</td>\n",
       "      <td>0.0</td>\n",
       "    </tr>\n",
       "    <tr>\n",
       "      <th>5</th>\n",
       "      <td>general</td>\n",
       "      <td>m</td>\n",
       "      <td>46.0</td>\n",
       "      <td>1.90</td>\n",
       "      <td>96.0</td>\n",
       "      <td>26.6</td>\n",
       "      <td>heart</td>\n",
       "      <td>t</td>\n",
       "      <td>t</td>\n",
       "      <td>0</td>\n",
       "      <td>0</td>\n",
       "      <td>0</td>\n",
       "      <td>0.0</td>\n",
       "      <td>0.0</td>\n",
       "    </tr>\n",
       "  </tbody>\n",
       "</table>\n",
       "</div>"
      ],
      "text/plain": [
       "  hospital gender   age  height  weight   bmi diagnosis blood_test ecg  \\\n",
       "0  general      m  33.0    1.64    66.0  24.9      cold          t   0   \n",
       "1  general      m  48.0    1.93   106.0  28.4   stomach          t   0   \n",
       "2  general      f  23.0    1.54    63.0  26.8      cold          t   0   \n",
       "3  general      m  27.0    1.94   103.0  27.5   stomach          t   0   \n",
       "5  general      m  46.0    1.90    96.0  26.6     heart          t   t   \n",
       "\n",
       "  ultrasound mri xray  children  months  \n",
       "0          0   0    0       0.0     0.0  \n",
       "1          t   0    0       0.0     0.0  \n",
       "2          0   0    0       0.0     0.0  \n",
       "3          t   0    0       0.0     0.0  \n",
       "5          0   0    0       0.0     0.0  "
      ]
     },
     "execution_count": 395,
     "metadata": {},
     "output_type": "execute_result"
    }
   ],
   "source": [
    "(full.query('blood_test == \"t\"')).head()"
   ]
  },
  {
   "cell_type": "markdown",
   "id": "e14a6f5d",
   "metadata": {},
   "source": [
    "ИЛИ"
   ]
  },
  {
   "cell_type": "code",
   "execution_count": 396,
   "id": "91601df6",
   "metadata": {},
   "outputs": [
    {
     "data": {
      "text/html": [
       "<div>\n",
       "<style scoped>\n",
       "    .dataframe tbody tr th:only-of-type {\n",
       "        vertical-align: middle;\n",
       "    }\n",
       "\n",
       "    .dataframe tbody tr th {\n",
       "        vertical-align: top;\n",
       "    }\n",
       "\n",
       "    .dataframe thead th {\n",
       "        text-align: right;\n",
       "    }\n",
       "</style>\n",
       "<table border=\"1\" class=\"dataframe\">\n",
       "  <thead>\n",
       "    <tr style=\"text-align: right;\">\n",
       "      <th></th>\n",
       "      <th>hospital</th>\n",
       "      <th>gender</th>\n",
       "      <th>age</th>\n",
       "      <th>height</th>\n",
       "      <th>weight</th>\n",
       "      <th>bmi</th>\n",
       "      <th>diagnosis</th>\n",
       "      <th>blood_test</th>\n",
       "      <th>ecg</th>\n",
       "      <th>ultrasound</th>\n",
       "      <th>mri</th>\n",
       "      <th>xray</th>\n",
       "      <th>children</th>\n",
       "      <th>months</th>\n",
       "    </tr>\n",
       "  </thead>\n",
       "  <tbody>\n",
       "    <tr>\n",
       "      <th>0</th>\n",
       "      <td>general</td>\n",
       "      <td>m</td>\n",
       "      <td>33.0</td>\n",
       "      <td>1.64</td>\n",
       "      <td>66.0</td>\n",
       "      <td>24.9</td>\n",
       "      <td>cold</td>\n",
       "      <td>t</td>\n",
       "      <td>0</td>\n",
       "      <td>0</td>\n",
       "      <td>0</td>\n",
       "      <td>0</td>\n",
       "      <td>0.0</td>\n",
       "      <td>0.0</td>\n",
       "    </tr>\n",
       "    <tr>\n",
       "      <th>1</th>\n",
       "      <td>general</td>\n",
       "      <td>m</td>\n",
       "      <td>48.0</td>\n",
       "      <td>1.93</td>\n",
       "      <td>106.0</td>\n",
       "      <td>28.4</td>\n",
       "      <td>stomach</td>\n",
       "      <td>t</td>\n",
       "      <td>0</td>\n",
       "      <td>t</td>\n",
       "      <td>0</td>\n",
       "      <td>0</td>\n",
       "      <td>0.0</td>\n",
       "      <td>0.0</td>\n",
       "    </tr>\n",
       "    <tr>\n",
       "      <th>2</th>\n",
       "      <td>general</td>\n",
       "      <td>f</td>\n",
       "      <td>23.0</td>\n",
       "      <td>1.54</td>\n",
       "      <td>63.0</td>\n",
       "      <td>26.8</td>\n",
       "      <td>cold</td>\n",
       "      <td>t</td>\n",
       "      <td>0</td>\n",
       "      <td>0</td>\n",
       "      <td>0</td>\n",
       "      <td>0</td>\n",
       "      <td>0.0</td>\n",
       "      <td>0.0</td>\n",
       "    </tr>\n",
       "    <tr>\n",
       "      <th>3</th>\n",
       "      <td>general</td>\n",
       "      <td>m</td>\n",
       "      <td>27.0</td>\n",
       "      <td>1.94</td>\n",
       "      <td>103.0</td>\n",
       "      <td>27.5</td>\n",
       "      <td>stomach</td>\n",
       "      <td>t</td>\n",
       "      <td>0</td>\n",
       "      <td>t</td>\n",
       "      <td>0</td>\n",
       "      <td>0</td>\n",
       "      <td>0.0</td>\n",
       "      <td>0.0</td>\n",
       "    </tr>\n",
       "    <tr>\n",
       "      <th>5</th>\n",
       "      <td>general</td>\n",
       "      <td>m</td>\n",
       "      <td>46.0</td>\n",
       "      <td>1.90</td>\n",
       "      <td>96.0</td>\n",
       "      <td>26.6</td>\n",
       "      <td>heart</td>\n",
       "      <td>t</td>\n",
       "      <td>t</td>\n",
       "      <td>0</td>\n",
       "      <td>0</td>\n",
       "      <td>0</td>\n",
       "      <td>0.0</td>\n",
       "      <td>0.0</td>\n",
       "    </tr>\n",
       "  </tbody>\n",
       "</table>\n",
       "</div>"
      ],
      "text/plain": [
       "  hospital gender   age  height  weight   bmi diagnosis blood_test ecg  \\\n",
       "0  general      m  33.0    1.64    66.0  24.9      cold          t   0   \n",
       "1  general      m  48.0    1.93   106.0  28.4   stomach          t   0   \n",
       "2  general      f  23.0    1.54    63.0  26.8      cold          t   0   \n",
       "3  general      m  27.0    1.94   103.0  27.5   stomach          t   0   \n",
       "5  general      m  46.0    1.90    96.0  26.6     heart          t   t   \n",
       "\n",
       "  ultrasound mri xray  children  months  \n",
       "0          0   0    0       0.0     0.0  \n",
       "1          t   0    0       0.0     0.0  \n",
       "2          0   0    0       0.0     0.0  \n",
       "3          t   0    0       0.0     0.0  \n",
       "5          0   0    0       0.0     0.0  "
      ]
     },
     "execution_count": 396,
     "metadata": {},
     "output_type": "execute_result"
    }
   ],
   "source": [
    "full.loc[full.blood_test == 't'].head()"
   ]
  },
  {
   "cell_type": "markdown",
   "id": "4257d552",
   "metadata": {},
   "source": [
    "отсюда заберем только столбец hospital"
   ]
  },
  {
   "cell_type": "code",
   "execution_count": 397,
   "id": "ba5867ce",
   "metadata": {},
   "outputs": [
    {
     "data": {
      "text/plain": [
       "0       general\n",
       "1       general\n",
       "2       general\n",
       "3       general\n",
       "5       general\n",
       "         ...   \n",
       "784    prenatal\n",
       "785    prenatal\n",
       "786    prenatal\n",
       "787    prenatal\n",
       "788    prenatal\n",
       "Name: hospital, Length: 508, dtype: object"
      ]
     },
     "execution_count": 397,
     "metadata": {},
     "output_type": "execute_result"
    }
   ],
   "source": [
    "full.loc[full.blood_test == 't'].hospital"
   ]
  },
  {
   "cell_type": "markdown",
   "id": "f69c8ab0",
   "metadata": {},
   "source": [
    "подсчет количества значений в столбце для разных hospital"
   ]
  },
  {
   "cell_type": "code",
   "execution_count": 398,
   "id": "e4deaa2e",
   "metadata": {},
   "outputs": [
    {
     "data": {
      "text/plain": [
       "prenatal    325\n",
       "general     183\n",
       "Name: hospital, dtype: int64"
      ]
     },
     "execution_count": 398,
     "metadata": {},
     "output_type": "execute_result"
    }
   ],
   "source": [
    "full.loc[full.blood_test == 't'].hospital.value_counts()"
   ]
  },
  {
   "cell_type": "markdown",
   "id": "c81df006",
   "metadata": {},
   "source": [
    "В какой больнице чаще всего брали кровь на анализ? Сколько раз? нужно отобрать как максимальное значение, так и его индекс. "
   ]
  },
  {
   "cell_type": "code",
   "execution_count": 399,
   "id": "47492936",
   "metadata": {},
   "outputs": [
    {
     "data": {
      "text/plain": [
       "'prenatal'"
      ]
     },
     "execution_count": 399,
     "metadata": {},
     "output_type": "execute_result"
    }
   ],
   "source": [
    "full.loc[full.blood_test == 't'].hospital.value_counts().idxmax()"
   ]
  },
  {
   "cell_type": "code",
   "execution_count": 400,
   "id": "1d9f6993",
   "metadata": {},
   "outputs": [
    {
     "data": {
      "text/plain": [
       "325"
      ]
     },
     "execution_count": 400,
     "metadata": {},
     "output_type": "execute_result"
    }
   ],
   "source": [
    "full.loc[full.blood_test == 't'].hospital.value_counts().max()"
   ]
  },
  {
   "cell_type": "markdown",
   "id": "456ef2b7",
   "metadata": {},
   "source": [
    "Средний рост по больнице"
   ]
  },
  {
   "cell_type": "code",
   "execution_count": 401,
   "id": "bb01945c",
   "metadata": {},
   "outputs": [
    {
     "data": {
      "text/html": [
       "<div>\n",
       "<style scoped>\n",
       "    .dataframe tbody tr th:only-of-type {\n",
       "        vertical-align: middle;\n",
       "    }\n",
       "\n",
       "    .dataframe tbody tr th {\n",
       "        vertical-align: top;\n",
       "    }\n",
       "\n",
       "    .dataframe thead th {\n",
       "        text-align: right;\n",
       "    }\n",
       "</style>\n",
       "<table border=\"1\" class=\"dataframe\">\n",
       "  <thead>\n",
       "    <tr style=\"text-align: right;\">\n",
       "      <th></th>\n",
       "      <th>height</th>\n",
       "    </tr>\n",
       "    <tr>\n",
       "      <th>hospital</th>\n",
       "      <th></th>\n",
       "    </tr>\n",
       "  </thead>\n",
       "  <tbody>\n",
       "    <tr>\n",
       "      <th>general</th>\n",
       "      <td>1.729219</td>\n",
       "    </tr>\n",
       "    <tr>\n",
       "      <th>prenatal</th>\n",
       "      <td>1.690862</td>\n",
       "    </tr>\n",
       "    <tr>\n",
       "      <th>sports</th>\n",
       "      <td>6.288612</td>\n",
       "    </tr>\n",
       "  </tbody>\n",
       "</table>\n",
       "</div>"
      ],
      "text/plain": [
       "            height\n",
       "hospital          \n",
       "general   1.729219\n",
       "prenatal  1.690862\n",
       "sports    6.288612"
      ]
     },
     "execution_count": 401,
     "metadata": {},
     "output_type": "execute_result"
    }
   ],
   "source": [
    "full.groupby(['hospital']).agg({'height' : 'mean'})"
   ]
  },
  {
   "cell_type": "markdown",
   "id": "e196395a",
   "metadata": {},
   "source": [
    "Что-то с ростом в sports? проверим"
   ]
  },
  {
   "cell_type": "code",
   "execution_count": 402,
   "id": "e9ff1c71",
   "metadata": {},
   "outputs": [
    {
     "data": {
      "text/plain": [
       "count    214.000000\n",
       "mean       6.288612\n",
       "std        0.509364\n",
       "min        4.799000\n",
       "25%        5.962750\n",
       "50%        6.276000\n",
       "75%        6.642750\n",
       "max        7.700000\n",
       "Name: height, dtype: float64"
      ]
     },
     "execution_count": 402,
     "metadata": {},
     "output_type": "execute_result"
    }
   ],
   "source": [
    "full.query(\"hospital=='sports'\").loc[:, 'height'].describe()"
   ]
  },
  {
   "cell_type": "code",
   "execution_count": 403,
   "id": "f854478a",
   "metadata": {},
   "outputs": [
    {
     "data": {
      "text/plain": [
       "count    461.000000\n",
       "mean       1.729219\n",
       "std        0.154478\n",
       "min        1.260000\n",
       "25%        1.630000\n",
       "50%        1.720000\n",
       "75%        1.810000\n",
       "max        2.230000\n",
       "Name: height, dtype: float64"
      ]
     },
     "execution_count": 403,
     "metadata": {},
     "output_type": "execute_result"
    }
   ],
   "source": [
    "full.query(\"hospital=='general'\").loc[:, 'height'].describe()"
   ]
  },
  {
   "cell_type": "code",
   "execution_count": 404,
   "id": "c2408427",
   "metadata": {},
   "outputs": [
    {
     "data": {
      "text/plain": [
       "count    325.000000\n",
       "mean       1.690862\n",
       "std        0.117701\n",
       "min        1.380000\n",
       "25%        1.610000\n",
       "50%        1.690000\n",
       "75%        1.780000\n",
       "max        1.990000\n",
       "Name: height, dtype: float64"
      ]
     },
     "execution_count": 404,
     "metadata": {},
     "output_type": "execute_result"
    }
   ],
   "source": [
    "full.query(\"hospital=='prenatal'\").loc[:, 'height'].describe()"
   ]
  },
  {
   "cell_type": "markdown",
   "id": "27b14b7b",
   "metadata": {},
   "source": [
    "Максимальный рост в general и prenatal меньше чем минимальный в sports, здесь какая-то аномалия в данных."
   ]
  },
  {
   "cell_type": "markdown",
   "id": "0aeec075",
   "metadata": {},
   "source": [
    "Посмотрим на графике"
   ]
  },
  {
   "cell_type": "code",
   "execution_count": 405,
   "id": "8f6f3b10",
   "metadata": {},
   "outputs": [
    {
     "data": {
      "text/plain": [
       "['Solarize_Light2',\n",
       " '_classic_test_patch',\n",
       " 'bmh',\n",
       " 'classic',\n",
       " 'dark_background',\n",
       " 'fast',\n",
       " 'fivethirtyeight',\n",
       " 'ggplot',\n",
       " 'grayscale',\n",
       " 'seaborn',\n",
       " 'seaborn-bright',\n",
       " 'seaborn-colorblind',\n",
       " 'seaborn-dark',\n",
       " 'seaborn-dark-palette',\n",
       " 'seaborn-darkgrid',\n",
       " 'seaborn-deep',\n",
       " 'seaborn-muted',\n",
       " 'seaborn-notebook',\n",
       " 'seaborn-paper',\n",
       " 'seaborn-pastel',\n",
       " 'seaborn-poster',\n",
       " 'seaborn-talk',\n",
       " 'seaborn-ticks',\n",
       " 'seaborn-white',\n",
       " 'seaborn-whitegrid',\n",
       " 'tableau-colorblind10']"
      ]
     },
     "execution_count": 405,
     "metadata": {},
     "output_type": "execute_result"
    }
   ],
   "source": [
    "# список стилей для графиков\n",
    "plt.style.available"
   ]
  },
  {
   "cell_type": "code",
   "execution_count": 406,
   "id": "0cbc3aa6",
   "metadata": {},
   "outputs": [],
   "source": [
    "plt.style.use('seaborn-deep')"
   ]
  },
  {
   "cell_type": "code",
   "execution_count": 407,
   "id": "ac27a4ea",
   "metadata": {},
   "outputs": [
    {
     "data": {
      "image/png": "[encoded data removed]",
      "text/plain": [
       "<Figure size 576x432 with 1 Axes>"
      ]
     },
     "metadata": {},
     "output_type": "display_data"
    }
   ],
   "source": [
    "x = full.groupby('hospital').agg({'height' : 'mean'}).index # по оси х индексы отобранной серии т.н. лейблы\n",
    "y = full.groupby('hospital').agg({'height' : 'mean'})['height'] # по оси y значения отобранной серии\n",
    "\n",
    "fig, ax = plt.subplots() # subplots применяется для нескольких графиков за один вывод\n",
    "ax.bar(x, y) # если делать один график то указываем просто plt.bar(x, y)\n",
    "\n",
    "fig.set_figwidth(8)    #  ширина Figure\n",
    "fig.set_figheight(6)    #  высота Figure\n",
    "\n",
    "plt.show()"
   ]
  },
  {
   "cell_type": "markdown",
   "id": "1cce8524",
   "metadata": {},
   "source": [
    "Посмотрим средний возраст по больницам"
   ]
  },
  {
   "cell_type": "code",
   "execution_count": 408,
   "id": "77c1343b",
   "metadata": {},
   "outputs": [
    {
     "data": {
      "image/png": "[encoded data removed]",
      "text/plain": [
       "<Figure size 720x360 with 1 Axes>"
      ]
     },
     "metadata": {},
     "output_type": "display_data"
    }
   ],
   "source": [
    "x = full.groupby('hospital').agg({'age' : 'mean'}).index\n",
    "y = full.groupby('hospital').agg({'age' : 'mean'})['age']\n",
    "\n",
    "plt.figure(figsize =(10, 5))\n",
    "plt.bar (x, y)\n",
    "plt.show()"
   ]
  },
  {
   "cell_type": "markdown",
   "id": "004d145f",
   "metadata": {},
   "source": [
    "Оценим количество заболеваний по всем больницам"
   ]
  },
  {
   "cell_type": "code",
   "execution_count": 409,
   "id": "55f63f26",
   "metadata": {},
   "outputs": [
    {
     "data": {
      "text/plain": [
       "pregnancy      318\n",
       "cold           194\n",
       "stomach        157\n",
       "sprain         104\n",
       "dislocation     86\n",
       "fracture        85\n",
       "heart           56\n",
       "Name: diagnosis, dtype: int64"
      ]
     },
     "execution_count": 409,
     "metadata": {},
     "output_type": "execute_result"
    }
   ],
   "source": [
    "full.diagnosis.value_counts()"
   ]
  },
  {
   "cell_type": "code",
   "execution_count": 410,
   "id": "f3b18cc0",
   "metadata": {},
   "outputs": [
    {
     "data": {
      "image/png": "[encoded data removed]",
      "text/plain": [
       "<Figure size 720x360 with 1 Axes>"
      ]
     },
     "metadata": {},
     "output_type": "display_data"
    }
   ],
   "source": [
    "x = full.diagnosis.value_counts().index\n",
    "y = full.diagnosis.value_counts().values\n",
    "\n",
    "plt.figure(figsize=(10, 5))\n",
    "plt.bar(x, y)\n",
    "plt.show()"
   ]
  },
  {
   "cell_type": "code",
   "execution_count": 411,
   "id": "0f86cd00",
   "metadata": {},
   "outputs": [
    {
     "data": {
      "text/plain": [
       "<BarContainer object of 7 artists>"
      ]
     },
     "execution_count": 411,
     "metadata": {},
     "output_type": "execute_result"
    },
    {
     "data": {
      "image/png": "[encoded data removed]",
      "text/plain": [
       "<Figure size 921.6x633.6 with 1 Axes>"
      ]
     },
     "metadata": {},
     "output_type": "display_data"
    }
   ],
   "source": [
    "# или просто\n",
    "plt.bar(x, y)"
   ]
  },
  {
   "cell_type": "markdown",
   "id": "e24648b9",
   "metadata": {},
   "source": [
    "Можно также посмотреть на \"пироге\""
   ]
  },
  {
   "cell_type": "code",
   "execution_count": 412,
   "id": "b91ff98b",
   "metadata": {},
   "outputs": [
    {
     "data": {
      "image/png": "[encoded data removed]",
      "text/plain": [
       "<Figure size 360x360 with 1 Axes>"
      ]
     },
     "metadata": {},
     "output_type": "display_data"
    }
   ],
   "source": [
    "plt.figure(figsize=(5, 5))\n",
    "plt.pie(full.diagnosis.value_counts().values, labels=full.diagnosis.value_counts().index, autopct='%1.0f%%')\n",
    "plt.show()"
   ]
  }
 ],
 "metadata": {
  "kernelspec": {
   "display_name": "Python 3",
   "language": "python",
   "name": "python3"
  },
  "language_info": {
   "codemirror_mode": {
    "name": "ipython",
    "version": 3
   },
   "file_extension": ".py",
   "mimetype": "text/x-python",
   "name": "python",
   "nbconvert_exporter": "python",
   "pygments_lexer": "ipython3",
   "version": "3.8.8"
  }
 },
 "nbformat": 4,
 "nbformat_minor": 5
}
